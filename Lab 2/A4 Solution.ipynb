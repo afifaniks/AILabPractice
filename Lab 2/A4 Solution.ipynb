{
 "cells": [
  {
   "cell_type": "markdown",
   "metadata": {},
   "source": [
    "# Problem Set: A4"
   ]
  },
  {
   "cell_type": "code",
   "execution_count": 3,
   "metadata": {},
   "outputs": [
    {
     "name": "stdout",
     "output_type": "stream",
     "text": [
      "1 2 3 4 5\n",
      "['5', '4', '3', '2', '1']\n"
     ]
    }
   ],
   "source": [
    "# Task 2\n",
    "arr = input().split()\n",
    "\n",
    "print(arr[::-1])"
   ]
  },
  {
   "cell_type": "code",
   "execution_count": 5,
   "metadata": {},
   "outputs": [
    {
     "name": "stdout",
     "output_type": "stream",
     "text": [
      "1 3 45 332 2 5 34\n",
      "34 2 332 "
     ]
    }
   ],
   "source": [
    "# Task 3\n",
    "arr = input().split()\n",
    "\n",
    "for i in range(len(arr) - 1, -1, -1):\n",
    "    if int(arr[i]) % 2 == 0:\n",
    "        print(arr[i], end=\" \")"
   ]
  },
  {
   "cell_type": "code",
   "execution_count": 6,
   "metadata": {},
   "outputs": [],
   "source": [
    "# Task 4\n",
    "# Already done in A3"
   ]
  },
  {
   "cell_type": "code",
   "execution_count": 8,
   "metadata": {},
   "outputs": [
    {
     "name": "stdout",
     "output_type": "stream",
     "text": [
      "1\n",
      "2\n",
      "3\n",
      "3\n",
      "3\n",
      "4\n",
      "5\n",
      "6\n",
      "6\n",
      "7\n",
      "7\n",
      "8\n",
      "3\n",
      "1\n",
      "2\n",
      "0 entered 0 times\n",
      "1 entered 2 times\n",
      "2 entered 2 times\n",
      "3 entered 4 times\n",
      "4 entered 1 times\n",
      "5 entered 1 times\n",
      "6 entered 2 times\n",
      "7 entered 2 times\n",
      "8 entered 1 times\n",
      "9 entered 0 times\n"
     ]
    }
   ],
   "source": [
    "# Task 5\n",
    "ctr = [0 for i in range(10)]\n",
    "for i in range(15):\n",
    "    x = int(input())\n",
    "    \n",
    "    ctr[x] += 1\n",
    "\n",
    "for i in range(10):\n",
    "    print(i, \"entered\", ctr[i], \"times\")\n",
    "    "
   ]
  },
  {
   "cell_type": "code",
   "execution_count": 9,
   "metadata": {},
   "outputs": [],
   "source": [
    "# Task 6\n",
    "# Done in A3"
   ]
  },
  {
   "cell_type": "code",
   "execution_count": 10,
   "metadata": {},
   "outputs": [],
   "source": [
    "# Task 7\n",
    "# Done in A3"
   ]
  },
  {
   "cell_type": "code",
   "execution_count": 12,
   "metadata": {},
   "outputs": [
    {
     "name": "stdout",
     "output_type": "stream",
     "text": [
      "2 5 6 9 12 13 14 15 16 17\n",
      "2 6 12 14 16 5 9 13 15 17 "
     ]
    }
   ],
   "source": [
    "# Task 8\n",
    "arr = input().split()\n",
    "\n",
    "for i in range(len(arr)):\n",
    "    if i % 2 == 0:\n",
    "        print(arr[i], end=\" \")\n",
    "for i in range(len(arr)):\n",
    "    if i % 2 != 0:\n",
    "        print(arr[i], end=\" \")"
   ]
  },
  {
   "cell_type": "code",
   "execution_count": null,
   "metadata": {},
   "outputs": [],
   "source": []
  }
 ],
 "metadata": {
  "kernelspec": {
   "display_name": "Python 3",
   "language": "python",
   "name": "python3"
  },
  "language_info": {
   "codemirror_mode": {
    "name": "ipython",
    "version": 3
   },
   "file_extension": ".py",
   "mimetype": "text/x-python",
   "name": "python",
   "nbconvert_exporter": "python",
   "pygments_lexer": "ipython3",
   "version": "3.6.5"
  }
 },
 "nbformat": 4,
 "nbformat_minor": 2
}
