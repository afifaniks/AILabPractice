{
 "cells": [
  {
   "cell_type": "markdown",
   "metadata": {},
   "source": [
    "## Problem Set: A1\n",
    "Author: [Afif Al Mamun](https://afifaniks.github.io)"
   ]
  },
  {
   "cell_type": "code",
   "execution_count": 29,
   "metadata": {},
   "outputs": [
    {
     "name": "stdout",
     "output_type": "stream",
     "text": [
      "7\n",
      "7\n"
     ]
    }
   ],
   "source": [
    "# Task 1\n",
    "inp = input()\n",
    "print(inp)"
   ]
  },
  {
   "cell_type": "code",
   "execution_count": 30,
   "metadata": {},
   "outputs": [
    {
     "name": "stdout",
     "output_type": "stream",
     "text": [
      "7 7\n",
      "Sum  14\n",
      "Difference  0\n",
      "Prod  49\n"
     ]
    }
   ],
   "source": [
    "# Task 2\n",
    "a, b = map(int, input().split())\n",
    "\n",
    "print(\"Sum \", a + b)\n",
    "print(\"Difference \", a - b)\n",
    "print(\"Prod \", a * b)"
   ]
  },
  {
   "cell_type": "code",
   "execution_count": 31,
   "metadata": {},
   "outputs": [
    {
     "name": "stdout",
     "output_type": "stream",
     "text": [
      "4\n",
      "Circumference: 25.132741228718345\n",
      "Area: 50.26548245743669\n"
     ]
    }
   ],
   "source": [
    "# Task 3\n",
    "import math\n",
    "\n",
    "rad = float(input())\n",
    "# Circumference = 2*pi*rad\n",
    "# Area = pi*r^2\n",
    "print(\"Circumference:\", 2*math.pi*rad)\n",
    "print(\"Area:\", math.pi*rad*rad)"
   ]
  },
  {
   "cell_type": "code",
   "execution_count": 32,
   "metadata": {},
   "outputs": [
    {
     "name": "stdout",
     "output_type": "stream",
     "text": [
      "4 5\n",
      "Second\n"
     ]
    }
   ],
   "source": [
    "# Task 4\n",
    "a, b = map(int, input().split())\n",
    "\n",
    "if a > b:\n",
    "    print(\"First\")\n",
    "else:\n",
    "    print(\"Second\")"
   ]
  },
  {
   "cell_type": "code",
   "execution_count": 33,
   "metadata": {},
   "outputs": [
    {
     "name": "stdout",
     "output_type": "stream",
     "text": [
      "3 3\n",
      "First is not greater\n"
     ]
    }
   ],
   "source": [
    "# Task 5\n",
    "a, b = map(int, input().split())\n",
    "\n",
    "if a > b:\n",
    "    print(\"First is greater\")\n",
    "else:\n",
    "    print(\"First is not greater\")"
   ]
  },
  {
   "cell_type": "code",
   "execution_count": 34,
   "metadata": {},
   "outputs": [
    {
     "name": "stdout",
     "output_type": "stream",
     "text": [
      "5 7\n",
      "Second is greater\n"
     ]
    }
   ],
   "source": [
    "# Task 6\n",
    "a, b = map(int, input().split())\n",
    "\n",
    "if a > b:\n",
    "    print(\"First is greater\")\n",
    "elif b > a:\n",
    "    print(\"Second is greater\")\n",
    "else:\n",
    "    print(\"The numbers are equal\")"
   ]
  },
  {
   "cell_type": "code",
   "execution_count": 35,
   "metadata": {},
   "outputs": [
    {
     "name": "stdout",
     "output_type": "stream",
     "text": [
      "11 2\n",
      "9\n"
     ]
    }
   ],
   "source": [
    "# Task 7\n",
    "a, b = map(int, input().split())\n",
    "\n",
    "if b > a:\n",
    "    a, b = b, a\n",
    "\n",
    "print(a - b)"
   ]
  },
  {
   "cell_type": "code",
   "execution_count": 36,
   "metadata": {},
   "outputs": [
    {
     "name": "stdout",
     "output_type": "stream",
     "text": [
      "5\n",
      "Odd\n"
     ]
    }
   ],
   "source": [
    "# Task 8\n",
    "a = int(input())\n",
    "\n",
    "if a %2 == 0:\n",
    "    print(\"Even\")\n",
    "else:\n",
    "    print(\"Odd\")"
   ]
  },
  {
   "cell_type": "code",
   "execution_count": 37,
   "metadata": {},
   "outputs": [
    {
     "name": "stdout",
     "output_type": "stream",
     "text": [
      "0 1 2 3 4 5 6 7 8 9\n"
     ]
    }
   ],
   "source": [
    "# Task 9\n",
    "print(*range(10))"
   ]
  },
  {
   "cell_type": "code",
   "execution_count": 38,
   "metadata": {},
   "outputs": [
    {
     "name": "stdout",
     "output_type": "stream",
     "text": [
      "0\n",
      "2\n",
      "4\n",
      "6\n",
      "8\n",
      "10\n",
      "12\n",
      "14\n",
      "16\n",
      "18\n"
     ]
    }
   ],
   "source": [
    "# Task 10\n",
    "ctr = 0\n",
    "even = 0\n",
    "\n",
    "while ctr < 10:\n",
    "    print(even)\n",
    "    even += 2\n",
    "    ctr += 1"
   ]
  },
  {
   "cell_type": "code",
   "execution_count": 39,
   "metadata": {},
   "outputs": [
    {
     "name": "stdout",
     "output_type": "stream",
     "text": [
      "1 2 3\n",
      "Average: 2.0\n"
     ]
    }
   ],
   "source": [
    "# Task 11\n",
    "arr = list(map(int, input().split()))\n",
    "\n",
    "sum = 0\n",
    "\n",
    "for i in arr:\n",
    "    sum += i\n",
    "\n",
    "print(\"Average:\", sum / len(arr))"
   ]
  },
  {
   "cell_type": "code",
   "execution_count": 40,
   "metadata": {},
   "outputs": [
    {
     "name": "stdout",
     "output_type": "stream",
     "text": [
      "4950\n"
     ]
    }
   ],
   "source": [
    "# Task 12\n",
    "sum = 0\n",
    "\n",
    "# Starting from 0\n",
    "for i in range(100):\n",
    "    sum += i\n",
    "\n",
    "print(sum)"
   ]
  },
  {
   "cell_type": "code",
   "execution_count": 41,
   "metadata": {},
   "outputs": [
    {
     "name": "stdout",
     "output_type": "stream",
     "text": [
      "2 333 444 555 11 2\n",
      "2 Even\n",
      "333 Odd\n",
      "444 Even\n",
      "555 Odd\n",
      "11 Odd\n",
      "2 Even\n"
     ]
    }
   ],
   "source": [
    "# Task 13\n",
    "def even(x):\n",
    "    if x % 2 == 0:\n",
    "        return \"Even\"\n",
    "    else:\n",
    "        return \"Odd\"\n",
    "\n",
    "arr = list(map(int, input().split()))\n",
    "ans = list(map(even, arr))\n",
    "\n",
    "for i in range(len(arr)):\n",
    "    print(arr[i], ans[i])"
   ]
  },
  {
   "cell_type": "code",
   "execution_count": null,
   "metadata": {},
   "outputs": [],
   "source": []
  }
 ],
 "metadata": {
  "kernelspec": {
   "display_name": "Python 3",
   "language": "python",
   "name": "python3"
  },
  "language_info": {
   "codemirror_mode": {
    "name": "ipython",
    "version": 3
   },
   "file_extension": ".py",
   "mimetype": "text/x-python",
   "name": "python",
   "nbconvert_exporter": "python",
   "pygments_lexer": "ipython3",
   "version": "3.6.5"
  }
 },
 "nbformat": 4,
 "nbformat_minor": 2
}
