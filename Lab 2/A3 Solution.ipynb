{
 "cells": [
  {
   "cell_type": "markdown",
   "metadata": {},
   "source": [
    "# Problem Set: A3\n",
    "Author: [Afif Al Mamun](https://afifaniks.github.io)"
   ]
  },
  {
   "cell_type": "code",
   "execution_count": 6,
   "metadata": {},
   "outputs": [
    {
     "name": "stdout",
     "output_type": "stream",
     "text": [
      "1 2 3 4\n",
      "1 2 3 4 "
     ]
    }
   ],
   "source": [
    "# 1\n",
    "arr = input().split()\n",
    "\n",
    "for i in arr:\n",
    "    print(i, end=' ')"
   ]
  },
  {
   "cell_type": "code",
   "execution_count": 8,
   "metadata": {},
   "outputs": [
    {
     "name": "stdout",
     "output_type": "stream",
     "text": [
      "1 2 3 4\n",
      "4 3 2 1 "
     ]
    }
   ],
   "source": [
    "# 2\n",
    "arr = input().split()\n",
    "\n",
    "for i in range(len(arr) - 1, -1, -1):\n",
    "    print(arr[i], end=' ')"
   ]
  },
  {
   "cell_type": "code",
   "execution_count": 9,
   "metadata": {},
   "outputs": [
    {
     "name": "stdout",
     "output_type": "stream",
     "text": [
      "1 2 10 12 4\n",
      "1 2 4 "
     ]
    }
   ],
   "source": [
    "# 3\n",
    "arr = input().split()\n",
    "\n",
    "for i in arr:\n",
    "    if int(i) < 10:\n",
    "        print(i, end=' ')"
   ]
  },
  {
   "cell_type": "code",
   "execution_count": 10,
   "metadata": {},
   "outputs": [
    {
     "name": "stdout",
     "output_type": "stream",
     "text": [
      "1 2 33 22\n",
      "2\n"
     ]
    }
   ],
   "source": [
    "# 4\n",
    "arr = input().split()\n",
    "counter = 0\n",
    "\n",
    "for i in arr:\n",
    "    if int(i) < 10:\n",
    "        counter += 1\n",
    "print(counter)"
   ]
  },
  {
   "cell_type": "code",
   "execution_count": 12,
   "metadata": {},
   "outputs": [
    {
     "name": "stdout",
     "output_type": "stream",
     "text": [
      "1 2 3 4\n",
      "5\n",
      "5 was not found\n"
     ]
    }
   ],
   "source": [
    "# 5\n",
    "arr = input().split()\n",
    "inp = input()\n",
    "\n",
    "if inp in arr:\n",
    "    print(inp, \"was found\")\n",
    "else:\n",
    "    print(inp, \"was not found\")"
   ]
  },
  {
   "cell_type": "code",
   "execution_count": 15,
   "metadata": {},
   "outputs": [
    {
     "name": "stdout",
     "output_type": "stream",
     "text": [
      "1 2\n",
      "33\n",
      "33 was not found\n"
     ]
    }
   ],
   "source": [
    "# 6\n",
    "arr = input().split()\n",
    "inp = input()\n",
    "flag = False\n",
    "\n",
    "for i in range(len(arr)):\n",
    "    if inp == arr[i]:\n",
    "        print(inp, \"was found at location\", i)\n",
    "        flag = True\n",
    "        break\n",
    "\n",
    "if not flag:\n",
    "    print(inp, \"was not found\")"
   ]
  },
  {
   "cell_type": "code",
   "execution_count": 18,
   "metadata": {},
   "outputs": [
    {
     "name": "stdout",
     "output_type": "stream",
     "text": [
      "2 444 3\n",
      "444\n"
     ]
    }
   ],
   "source": [
    "# 7\n",
    "arr = input().split()\n",
    "\n",
    "big = int(arr[0])\n",
    "\n",
    "for i in range(1, len(arr)):\n",
    "    if int(arr[i]) > big:\n",
    "        big = int(arr[i])\n",
    "\n",
    "print(big)"
   ]
  },
  {
   "cell_type": "code",
   "execution_count": 19,
   "metadata": {},
   "outputs": [
    {
     "name": "stdout",
     "output_type": "stream",
     "text": [
      "2 333 4 2 11\n",
      "largest number 333 found at location 1\n"
     ]
    }
   ],
   "source": [
    "# 8\n",
    "arr = input().split()\n",
    "\n",
    "big = int(arr[0])\n",
    "loc = 0\n",
    "\n",
    "for i in range(1, len(arr)):\n",
    "    if int(arr[i]) > big:\n",
    "        big = int(arr[i])\n",
    "        loc = i\n",
    "\n",
    "print(\"largest number\", big, \"found at location\", loc)"
   ]
  },
  {
   "cell_type": "code",
   "execution_count": 21,
   "metadata": {},
   "outputs": [
    {
     "name": "stdout",
     "output_type": "stream",
     "text": [
      "2 32 -22 2342 12\n",
      "largest number 2342 found at location 3\n",
      "smolest number -22 found at location 2\n"
     ]
    }
   ],
   "source": [
    "# 9\n",
    "arr = input().split()\n",
    "\n",
    "big = int(arr[0])\n",
    "b_loc = 0\n",
    "smol = int(arr[0])\n",
    "s_loc = 0\n",
    "\n",
    "for i in range(1, len(arr)):\n",
    "    if int(arr[i]) > big:\n",
    "        big = int(arr[i])\n",
    "        b_loc = i\n",
    "    if int(arr[i]) < smol:\n",
    "        smol = int(arr[i])\n",
    "        s_loc = i\n",
    "\n",
    "\n",
    "print(\"largest number\", big, \"found at location\", b_loc)\n",
    "print(\"smolest number\", smol, \"found at location\", s_loc)"
   ]
  },
  {
   "cell_type": "code",
   "execution_count": 22,
   "metadata": {},
   "outputs": [
    {
     "name": "stdout",
     "output_type": "stream",
     "text": [
      "22 23 2234 324\n",
      "Before\n",
      " ['22', '23', '2234', '324'] \n",
      "After:\n",
      " ['324', '2234', '23', '22']\n"
     ]
    }
   ],
   "source": [
    "# 10\n",
    "arr = input().split()\n",
    "rev = []\n",
    "\n",
    "for i in range(len(arr) - 1, -1, -1):\n",
    "    rev.append(arr[i])\n",
    "    \n",
    "print(\"Before\\n\", arr, \"\\nAfter:\\n\", rev)"
   ]
  },
  {
   "cell_type": "code",
   "execution_count": 2,
   "metadata": {},
   "outputs": [
    {
     "name": "stdout",
     "output_type": "stream",
     "text": [
      "32 4 1 234 -23 132\n",
      "['-23', '1', '4', '32', '132', '234']\n"
     ]
    }
   ],
   "source": [
    "# 11\n",
    "arr = input().split()\n",
    "\n",
    "for i in range(len(arr) - 1):\n",
    "    for j in range(len(arr) - i -1):\n",
    "        if int(arr[j + 1]) < int(arr[j]):\n",
    "            arr[j], arr[j + 1] = arr[j + 1], arr[j]\n",
    "    \n",
    "print(arr)"
   ]
  },
  {
   "cell_type": "code",
   "execution_count": 3,
   "metadata": {},
   "outputs": [
    {
     "name": "stdout",
     "output_type": "stream",
     "text": [
      "2 324 12 324 456 1 324 22\n",
      "['456', '324', '324', '324', '22', '12', '2', '1']\n"
     ]
    }
   ],
   "source": [
    "# 12\n",
    "arr = input().split()\n",
    "\n",
    "for i in range(len(arr) - 1):\n",
    "    for j in range(len(arr) - i -1):\n",
    "        if int(arr[j + 1]) > int(arr[j]):\n",
    "            arr[j], arr[j + 1] = arr[j + 1], arr[j]\n",
    "    \n",
    "print(arr)"
   ]
  },
  {
   "cell_type": "code",
   "execution_count": 4,
   "metadata": {},
   "outputs": [],
   "source": [
    "# 13 \n",
    "# Same as 12"
   ]
  },
  {
   "cell_type": "code",
   "execution_count": 1,
   "metadata": {},
   "outputs": [
    {
     "name": "stdout",
     "output_type": "stream",
     "text": [
      "2\n",
      "You have entered [2]\n",
      "3\n",
      "You have entered [2, 3]\n",
      "4\n",
      "You have entered [2, 3, 4]\n",
      "5\n",
      "You have entered [2, 3, 4, 5]\n",
      "6\n",
      "You have entered [2, 3, 4, 5, 6]\n",
      "342\n",
      "You have entered [2, 3, 4, 5, 6, 342]\n",
      "435\n",
      "You have entered [2, 3, 4, 5, 6, 342, 435]\n",
      "456\n",
      "You have entered [2, 3, 4, 5, 6, 342, 435, 456]\n",
      "567\n",
      "You have entered [2, 3, 4, 5, 6, 342, 435, 456, 567]\n",
      "345\n",
      "You have entered [2, 3, 4, 5, 6, 342, 435, 456, 567, 345]\n"
     ]
    }
   ],
   "source": [
    "# 14\n",
    "arr = []\n",
    "\n",
    "for i in range(10):\n",
    "    arr.append(int(input()))\n",
    "    \n",
    "    print(\"You have entered\", arr)"
   ]
  },
  {
   "cell_type": "code",
   "execution_count": 3,
   "metadata": {},
   "outputs": [
    {
     "name": "stdout",
     "output_type": "stream",
     "text": [
      "2\n",
      "3\n",
      "3\n",
      "3 is already inputted\n",
      "4\n",
      "5\n",
      "5\n",
      "5 is already inputted\n",
      "6\n",
      "['2', '3', '4', '5', '6']\n"
     ]
    }
   ],
   "source": [
    "# 15\n",
    "arr = []\n",
    "ctr = 0\n",
    "\n",
    "while ctr < 5:\n",
    "    x = input()\n",
    "    \n",
    "    if x in arr:\n",
    "        print(x, \"is already inputted\")\n",
    "    else:\n",
    "        arr.append(x)\n",
    "        ctr += 1\n",
    "print(arr)"
   ]
  },
  {
   "cell_type": "code",
   "execution_count": 5,
   "metadata": {},
   "outputs": [
    {
     "name": "stdout",
     "output_type": "stream",
     "text": [
      "2\n",
      "3\n",
      "4\n",
      "2\n",
      "2\n",
      "2\n",
      "2\n",
      "2 occured 4 times already\n",
      "3\n",
      "45\n",
      "3\n",
      "3\n",
      "3\n",
      "3 occured 4 times already\n",
      "435\n",
      "['2', '3', '4', '2', '2', '2', '3', '45', '3', '3', '435']\n"
     ]
    }
   ],
   "source": [
    "# 17\n",
    "arr = []\n",
    "ctr = 0\n",
    "\n",
    "while ctr < 11:\n",
    "    x = input()\n",
    "    \n",
    "    occurence = 0\n",
    "    for i in range(len(arr)):\n",
    "        if arr[i] == x:\n",
    "            occurence += 1\n",
    "    \n",
    "    if occurence == 4:\n",
    "        print(x, \"occured 4 times already\")\n",
    "    else:\n",
    "        arr.append(x)\n",
    "        ctr += 1\n",
    "print(arr)"
   ]
  },
  {
   "cell_type": "code",
   "execution_count": 10,
   "metadata": {},
   "outputs": [
    {
     "name": "stdout",
     "output_type": "stream",
     "text": [
      "2\n",
      "2\n",
      "324\n",
      "234\n",
      "324\n",
      "54\n",
      "546\n",
      "546\n",
      "5\n",
      "34\n",
      "{'546', '2', '324'}\n"
     ]
    }
   ],
   "source": [
    "# 18\n",
    "arr = []\n",
    "res = set()\n",
    "ctr = 0\n",
    "\n",
    "for i in range(10):\n",
    "    arr.append(input())\n",
    "\n",
    "for i in arr:\n",
    "    oc = 0\n",
    "    \n",
    "    for j in range(len(arr)):\n",
    "        if i == arr[j]:\n",
    "            oc += 1\n",
    "    \n",
    "    if oc >= 2 and oc <=4:\n",
    "        res.add(i)\n",
    "print(res)"
   ]
  },
  {
   "cell_type": "code",
   "execution_count": 20,
   "metadata": {},
   "outputs": [
    {
     "name": "stdout",
     "output_type": "stream",
     "text": [
      "23 324 23 345 2 45\n",
      "Enter choice:\n",
      "1. Sort odd pos\n",
      "2. Sort even pos\n",
      "3. Sort all\n",
      "3\n",
      "['345', '324', '45', '23', '23', '2']\n"
     ]
    }
   ],
   "source": [
    "# 19\n",
    "\n",
    "def sort(arr):\n",
    "    for i in range(len(arr) - 1):\n",
    "        for j in range(len(arr) - i -1):\n",
    "            if int(arr[j + 1]) > int(arr[j]):\n",
    "                arr[j], arr[j + 1] = arr[j + 1], arr[j]\n",
    "    return arr\n",
    "\n",
    "arr = input().split()\n",
    "\n",
    "print(\"Enter choice:\\n1. Sort odd pos\\n2. Sort even pos\\n3. Sort all\")\n",
    "c = int(input())\n",
    "\n",
    "if c == 1:\n",
    "    ls = []\n",
    "    for i in range(len(arr)):\n",
    "        if i%2 != 0:\n",
    "            ls.append(arr[i])\n",
    "    \n",
    "    ls = sort(ls)\n",
    "    pointer = 0\n",
    "    for i in range(len(arr)):\n",
    "        if i%2 != 0:\n",
    "            arr[i] = ls[pointer]\n",
    "            pointer += 1\n",
    "    \n",
    "elif c == 2:\n",
    "    ls = []\n",
    "    for i in range(len(arr)):\n",
    "        if i%2 == 0:\n",
    "            ls.append(arr[i])\n",
    "    \n",
    "    ls = sort(ls)\n",
    "    pointer = 0\n",
    "    for i in range(len(arr)):\n",
    "        if i%2 == 0:\n",
    "            arr[i] = ls[pointer]\n",
    "            pointer += 1\n",
    "elif c == 3:\n",
    "    arr = sort(arr)\n",
    "    \n",
    "print(arr)"
   ]
  },
  {
   "cell_type": "code",
   "execution_count": null,
   "metadata": {},
   "outputs": [],
   "source": []
  }
 ],
 "metadata": {
  "kernelspec": {
   "display_name": "Python 3",
   "language": "python",
   "name": "python3"
  },
  "language_info": {
   "codemirror_mode": {
    "name": "ipython",
    "version": 3
   },
   "file_extension": ".py",
   "mimetype": "text/x-python",
   "name": "python",
   "nbconvert_exporter": "python",
   "pygments_lexer": "ipython3",
   "version": "3.6.5"
  }
 },
 "nbformat": 4,
 "nbformat_minor": 2
}
