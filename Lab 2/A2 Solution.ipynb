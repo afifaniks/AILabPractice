{
 "cells": [
  {
   "cell_type": "markdown",
   "metadata": {},
   "source": [
    "## Problem Set: A2"
   ]
  },
  {
   "cell_type": "code",
   "execution_count": 1,
   "metadata": {},
   "outputs": [
    {
     "name": "stdout",
     "output_type": "stream",
     "text": [
      "5\n",
      "*****"
     ]
    }
   ],
   "source": [
    "# P1\n",
    "n = int(input())\n",
    "\n",
    "for i in range(n):\n",
    "    print('*', end='')"
   ]
  },
  {
   "cell_type": "code",
   "execution_count": 2,
   "metadata": {},
   "outputs": [
    {
     "name": "stdout",
     "output_type": "stream",
     "text": [
      "4\n",
      "6\n",
      "******\n",
      "******\n",
      "******\n",
      "******\n"
     ]
    }
   ],
   "source": [
    "# P2\n",
    "a = int(input())\n",
    "b = int(input())\n",
    "\n",
    "for i in range(a):\n",
    "    for j in range(b):\n",
    "        print('*', end='')\n",
    "    print()"
   ]
  },
  {
   "cell_type": "code",
   "execution_count": 3,
   "metadata": {},
   "outputs": [
    {
     "name": "stdout",
     "output_type": "stream",
     "text": [
      "5\n",
      "*\n",
      "**\n",
      "***\n",
      "****\n",
      "*****\n"
     ]
    }
   ],
   "source": [
    "# P3\n",
    "a = int(input())\n",
    "n = 1\n",
    "\n",
    "for i in range(a):\n",
    "    for j in range(n):\n",
    "        print('*', end='')\n",
    "    n += 1\n",
    "    print()"
   ]
  },
  {
   "cell_type": "code",
   "execution_count": 5,
   "metadata": {},
   "outputs": [
    {
     "name": "stdout",
     "output_type": "stream",
     "text": [
      "5\n",
      "    *\n",
      "   **\n",
      "  ***\n",
      " ****\n",
      "*****\n"
     ]
    }
   ],
   "source": [
    "# P4\n",
    "\n",
    "a = int(input())\n",
    "space = a - 1\n",
    "star = 1\n",
    "\n",
    "for i in range(a):\n",
    "    for j in range(space):\n",
    "        print(' ', end='')\n",
    "    for k in range(star):\n",
    "        print('*', end='')\n",
    "    space -= 1\n",
    "    star += 1\n",
    "    print()"
   ]
  },
  {
   "cell_type": "code",
   "execution_count": 14,
   "metadata": {},
   "outputs": [
    {
     "name": "stdout",
     "output_type": "stream",
     "text": [
      "10\n",
      "         *\n",
      "        ***\n",
      "       *****\n",
      "      *******\n",
      "     *********\n",
      "    ***********\n",
      "   *************\n",
      "  ***************\n",
      " *****************\n",
      "*******************\n"
     ]
    }
   ],
   "source": [
    "# P5\n",
    "a = int(input())\n",
    "space = a - 1\n",
    "star = 1\n",
    "\n",
    "for i in range(a):\n",
    "    for j in range(space):\n",
    "        print(' ', end='')\n",
    "    for k in range(star):\n",
    "        print('*', end='')\n",
    "    space -= 1\n",
    "    star += 2\n",
    "    print()"
   ]
  },
  {
   "cell_type": "code",
   "execution_count": 50,
   "metadata": {},
   "outputs": [
    {
     "name": "stdout",
     "output_type": "stream",
     "text": [
      "10\n",
      "         *\n",
      "        ***\n",
      "       *****\n",
      "      *******\n",
      "     *********\n",
      "    ***********\n",
      "   *************\n",
      "  ***************\n",
      " *****************\n",
      "*******************\n",
      " *****************\n",
      "  ***************\n",
      "   *************\n",
      "    ***********\n",
      "     *********\n",
      "      *******\n",
      "       *****\n",
      "        ***\n",
      "         *\n"
     ]
    }
   ],
   "source": [
    "# P6\n",
    "a = int(input())\n",
    "space = a - 1\n",
    "star = 1\n",
    "\n",
    "for i in range(a):\n",
    "    for j in range(space):\n",
    "        print(' ', end='')\n",
    "    for k in range(star):\n",
    "        print('*', end='')\n",
    "    space -= 1\n",
    "    star += 2\n",
    "    print()\n",
    "a -= 1\n",
    "space += 2\n",
    "star -= 4\n",
    "\n",
    "for i in range(a):\n",
    "    for j in range(space):\n",
    "        print(' ', end='')\n",
    "    for k in range(star):\n",
    "        print('*', end='')\n",
    "    space += 1\n",
    "    star -= 2\n",
    "    print()"
   ]
  },
  {
   "cell_type": "code",
   "execution_count": 23,
   "metadata": {},
   "outputs": [
    {
     "name": "stdout",
     "output_type": "stream",
     "text": [
      "10\n",
      "10\n",
      "**********\n",
      "*        *\n",
      "*        *\n",
      "*        *\n",
      "*        *\n",
      "*        *\n",
      "*        *\n",
      "*        *\n",
      "*        *\n",
      "**********\n"
     ]
    }
   ],
   "source": [
    "# P7\n",
    "a = int(input())\n",
    "b = int(input())\n",
    "\n",
    "for i in range(a):\n",
    "    if i == 0 or i == a - 1:\n",
    "        for j in range(b):\n",
    "            print('*', end='')\n",
    "    else:\n",
    "        for j in range(b):\n",
    "            if j == 0 or j == b - 1:\n",
    "                print('*', end='')\n",
    "            else:\n",
    "                print(' ', end='')\n",
    "    print() "
   ]
  },
  {
   "cell_type": "code",
   "execution_count": 27,
   "metadata": {},
   "outputs": [
    {
     "name": "stdout",
     "output_type": "stream",
     "text": [
      "5\n",
      "*\n",
      "**\n",
      "* *\n",
      "*  *\n",
      "*****"
     ]
    }
   ],
   "source": [
    "# P8\n",
    "a = int(input())\n",
    "sp = 0\n",
    "star = 1\n",
    "\n",
    "for i in range(a):\n",
    "    if i == a - 1:\n",
    "        for j in range(star):\n",
    "            print('*', end='')\n",
    "    else:\n",
    "        for j in range(star):\n",
    "            if j == 0 or j == star - 1:\n",
    "                print('*', end='')\n",
    "            else:\n",
    "                print(' ', end='')\n",
    "        star += 1\n",
    "        print()\n",
    "    "
   ]
  },
  {
   "cell_type": "code",
   "execution_count": 32,
   "metadata": {},
   "outputs": [
    {
     "name": "stdout",
     "output_type": "stream",
     "text": [
      "5\n",
      "    *\n",
      "   **\n",
      "  * *\n",
      " *  *\n",
      "*****"
     ]
    }
   ],
   "source": [
    "# P9\n",
    "a = int(input())\n",
    "sp = a - 1\n",
    "star = 1\n",
    "\n",
    "for i in range(a):\n",
    "    if i == a - 1:\n",
    "        for j in range(star):\n",
    "            print('*', end='')\n",
    "    else:\n",
    "        for k in range(sp):\n",
    "            print(' ', end='')\n",
    "        sp -= 1\n",
    "        \n",
    "        for k in range(star):\n",
    "            if k == 0 or k == star - 1:\n",
    "                print('*', end='')\n",
    "            else:\n",
    "                print(' ', end='')\n",
    "                \n",
    "        star += 1\n",
    "        \n",
    "        print()"
   ]
  },
  {
   "cell_type": "code",
   "execution_count": 35,
   "metadata": {},
   "outputs": [
    {
     "name": "stdout",
     "output_type": "stream",
     "text": [
      "5\n",
      "    *\n",
      "   * *\n",
      "  *   *\n",
      " *     *\n",
      "*********"
     ]
    }
   ],
   "source": [
    "# P10\n",
    "a = int(input())\n",
    "space = a - 1\n",
    "star = 1\n",
    "\n",
    "for i in range(a):\n",
    "    if i == a - 1:\n",
    "        for j in range(star):\n",
    "            print('*', end='')\n",
    "    else:\n",
    "        for j in range(space):\n",
    "            print(' ', end='')\n",
    "        for k in range(star):\n",
    "            if k == 0 or k == star - 1:\n",
    "                print('*', end='')\n",
    "            else:\n",
    "                print(' ', end='')\n",
    "        space -= 1\n",
    "        star += 2\n",
    "        print()"
   ]
  },
  {
   "cell_type": "code",
   "execution_count": 37,
   "metadata": {},
   "outputs": [
    {
     "name": "stdout",
     "output_type": "stream",
     "text": [
      "10\n",
      "         *\n",
      "        * *\n",
      "       *   *\n",
      "      *     *\n",
      "     *       *\n",
      "    *         *\n",
      "   *           *\n",
      "  *             *\n",
      " *               *\n",
      "*                 *\n",
      " *               *\n",
      "  *             *\n",
      "   *           *\n",
      "    *         *\n",
      "     *       *\n",
      "      *     *\n",
      "       *   *\n",
      "        * *\n",
      "         *\n",
      "          \n"
     ]
    }
   ],
   "source": [
    "# P11\n",
    "a = int(input())\n",
    "space = a - 1\n",
    "star = 1\n",
    "\n",
    "for i in range(a):\n",
    "    for j in range(space):\n",
    "        print(' ', end='')\n",
    "    for k in range(star):\n",
    "        if k == 0 or k == star - 1:\n",
    "            print('*', end='')\n",
    "        else:\n",
    "            print(' ', end='')\n",
    "    space -= 1\n",
    "    star += 2\n",
    "    print()\n",
    "\n",
    "space += 2\n",
    "star -= 4\n",
    "\n",
    "for i in range(a):\n",
    "    for j in range(space):\n",
    "        print(' ', end='')\n",
    "    for k in range(star):\n",
    "        if k == 0 or k == star - 1:\n",
    "            print('*', end='')\n",
    "        else:\n",
    "            print(' ', end='')\n",
    "    space += 1\n",
    "    star -= 2\n",
    "    print()"
   ]
  },
  {
   "cell_type": "code",
   "execution_count": 39,
   "metadata": {},
   "outputs": [
    {
     "name": "stdout",
     "output_type": "stream",
     "text": [
      "6\n",
      "123456\n"
     ]
    }
   ],
   "source": [
    "# P12\n",
    "a = int(input())\n",
    "print(*range(1, a + 1), sep='')"
   ]
  },
  {
   "cell_type": "code",
   "execution_count": 40,
   "metadata": {},
   "outputs": [
    {
     "name": "stdout",
     "output_type": "stream",
     "text": [
      "4\n",
      "6\n",
      "123456\n",
      "123456\n",
      "123456\n",
      "123456\n"
     ]
    }
   ],
   "source": [
    "# P13\n",
    "a = int(input())\n",
    "b = int(input())\n",
    "\n",
    "for i in range(a):\n",
    "    print(*range(1, b + 1), sep='')"
   ]
  },
  {
   "cell_type": "code",
   "execution_count": 41,
   "metadata": {},
   "outputs": [
    {
     "name": "stdout",
     "output_type": "stream",
     "text": [
      "4\n",
      "1\n",
      "12\n",
      "123\n",
      "1234\n"
     ]
    }
   ],
   "source": [
    "# P14\n",
    "a = int(input())\n",
    "n = 1\n",
    "\n",
    "for i in range(a):\n",
    "    print(*range(1, n + 1), sep='')\n",
    "    \n",
    "    n += 1"
   ]
  },
  {
   "cell_type": "code",
   "execution_count": 44,
   "metadata": {},
   "outputs": [
    {
     "name": "stdout",
     "output_type": "stream",
     "text": [
      "5\n",
      "    5\n",
      "   45\n",
      "  345\n",
      " 2345\n",
      "12345\n"
     ]
    }
   ],
   "source": [
    "# P15\n",
    "a = int(input())\n",
    "n = a\n",
    "sp = n - 1\n",
    "\n",
    "for i in range(a):\n",
    "    for j in range(sp):\n",
    "        print(' ', end='')\n",
    "    sp -= 1\n",
    "    \n",
    "    for k in range(n, a + 1):\n",
    "        print(k, end='')\n",
    "    n -= 1   \n",
    "    \n",
    "    print()"
   ]
  },
  {
   "cell_type": "code",
   "execution_count": 49,
   "metadata": {},
   "outputs": [
    {
     "name": "stdout",
     "output_type": "stream",
     "text": [
      "5\n",
      "    1\n",
      "   12\n",
      "  123\n",
      " 1234\n",
      "12345\n"
     ]
    }
   ],
   "source": [
    "# P15\n",
    "a = int(input())\n",
    "n = 1\n",
    "sp = a - 1\n",
    "\n",
    "for i in range(a):\n",
    "    for j in range(sp):\n",
    "        print(' ', end='')\n",
    "    sp -= 1\n",
    "    print(*range(1, n + 1), sep='')\n",
    "    n += 1  "
   ]
  },
  {
   "cell_type": "code",
   "execution_count": 46,
   "metadata": {},
   "outputs": [
    {
     "name": "stdout",
     "output_type": "stream",
     "text": [
      "5\n",
      "    1\n",
      "   123\n",
      "  12345\n",
      " 1234567\n",
      "123456789\n"
     ]
    }
   ],
   "source": [
    "# P17\n",
    "a = int(input())\n",
    "n = 1\n",
    "sp = a - 1\n",
    "\n",
    "for i in range(a):\n",
    "    for j in range(sp):\n",
    "        print(' ', end='')\n",
    "    sp -= 1\n",
    "    print(*range(1, n + 1), sep = '')\n",
    "    n += 2"
   ]
  },
  {
   "cell_type": "code",
   "execution_count": 53,
   "metadata": {},
   "outputs": [
    {
     "name": "stdout",
     "output_type": "stream",
     "text": [
      "5\n",
      "    1\n",
      "   123\n",
      "  12345\n",
      " 1234567\n",
      "123456789\n",
      " 1234567\n",
      "  12345\n",
      "   123\n",
      "    1\n"
     ]
    }
   ],
   "source": [
    "# P18\n",
    "a = int(input())\n",
    "n = 1\n",
    "sp = a - 1\n",
    "\n",
    "for i in range(a):\n",
    "    for j in range(sp):\n",
    "        print(' ', end='')\n",
    "    sp -= 1\n",
    "    print(*range(1, n + 1), sep = '')\n",
    "    n += 2\n",
    "\n",
    "a -= 1\n",
    "sp += 2\n",
    "n -= 4\n",
    "\n",
    "for i in range(a):\n",
    "    for j in range(sp):\n",
    "        print(' ', end='')\n",
    "    sp += 1\n",
    "    print(*range(1, n + 1), sep = '')\n",
    "    n -= 2"
   ]
  },
  {
   "cell_type": "code",
   "execution_count": 54,
   "metadata": {},
   "outputs": [
    {
     "name": "stdout",
     "output_type": "stream",
     "text": [
      "5\n",
      "6\n",
      "123456\n",
      "1    6\n",
      "1    6\n",
      "1    6\n",
      "123456\n"
     ]
    }
   ],
   "source": [
    "# P19\n",
    "a = int(input())\n",
    "b = int(input())\n",
    "\n",
    "for i in range(a):\n",
    "    if i == 0 or i == a - 1:\n",
    "        print(*range(1, b + 1), sep='')\n",
    "    else:\n",
    "        for j in range(1, b + 1):\n",
    "            if j == 1 or j == b:\n",
    "                print(j, end='')\n",
    "            else:\n",
    "                print(' ', end='')\n",
    "        print()"
   ]
  },
  {
   "cell_type": "code",
   "execution_count": 59,
   "metadata": {},
   "outputs": [
    {
     "name": "stdout",
     "output_type": "stream",
     "text": [
      "5\n",
      "1\n",
      "12\n",
      "1 3\n",
      "1  4\n",
      "12345"
     ]
    }
   ],
   "source": [
    "# P20\n",
    "a = int(input())\n",
    "x = 1\n",
    "\n",
    "for i in range(a):\n",
    "    if i == a - 1:\n",
    "        for j in range(1, x + 1):\n",
    "            print(j, end='')\n",
    "    else:\n",
    "        for j in range(1, x + 1):\n",
    "            if j == 1 or j == x:\n",
    "                print(j, end='')\n",
    "            else:\n",
    "                print(' ', end='')\n",
    "        print()\n",
    "        x += 1"
   ]
  },
  {
   "cell_type": "code",
   "execution_count": 61,
   "metadata": {},
   "outputs": [
    {
     "name": "stdout",
     "output_type": "stream",
     "text": [
      "5\n",
      "    5\n",
      "   45\n",
      "  3 5\n",
      " 2  5\n",
      "12345"
     ]
    }
   ],
   "source": [
    "# P21\n",
    "a = int(input())\n",
    "sp = a - 1\n",
    "x = a\n",
    "\n",
    "for i in range(a):\n",
    "    if i == a - 1:\n",
    "        for j in range(1, a + 1):\n",
    "            print(j, end='')\n",
    "    else:\n",
    "        for j in range(sp):\n",
    "            print(' ', end='')\n",
    "            \n",
    "        for j in range(x, a + 1): \n",
    "            if j == x or j == a:\n",
    "                print(j, end='')\n",
    "            else:\n",
    "                print(' ', end='')\n",
    "        print()\n",
    "        x -= 1\n",
    "        sp -= 1"
   ]
  },
  {
   "cell_type": "code",
   "execution_count": 4,
   "metadata": {},
   "outputs": [
    {
     "name": "stdout",
     "output_type": "stream",
     "text": [
      "5\n",
      "    1\n",
      "   1 3\n",
      "  1   5\n",
      " 1     7\n",
      "123456789\n"
     ]
    }
   ],
   "source": [
    "# P22\n",
    "a = int(input())\n",
    "space = a - 1\n",
    "x = 1\n",
    "\n",
    "for i in range(a):\n",
    "    if i == a - 1:\n",
    "        for j in range(1, x + 1):\n",
    "            print(j, end='')\n",
    "    else:   \n",
    "        for j in range(space):\n",
    "            print(' ', end='')\n",
    "        space -= 1\n",
    "        for k in range(1, x + 1):\n",
    "            if k == 1 or k == x:\n",
    "                print(k, end='')\n",
    "            else:\n",
    "                print(' ', end='')\n",
    "        x += 2\n",
    "    print()"
   ]
  },
  {
   "cell_type": "code",
   "execution_count": 10,
   "metadata": {},
   "outputs": [
    {
     "name": "stdout",
     "output_type": "stream",
     "text": [
      "5\n",
      "    1\n",
      "   1 3\n",
      "  1   5\n",
      " 1     7\n",
      "1       9\n",
      " 1     7\n",
      "  1   5\n",
      "   1 3\n",
      "    1\n"
     ]
    }
   ],
   "source": [
    "# P23\n",
    "a = int(input())\n",
    "sp = a - 1\n",
    "x = 1\n",
    "\n",
    "for i in range(a):\n",
    "    for j in range(sp):\n",
    "        print(' ', end='')\n",
    "    \n",
    "    sp -= 1\n",
    "    \n",
    "    for j in range(1, x + 1):\n",
    "        if j == 1 or j == x:\n",
    "            print(j, end='')\n",
    "        else:\n",
    "            print(' ', end='') \n",
    "    x += 2\n",
    "    print()\n",
    "\n",
    "sp += 2\n",
    "x -= 4\n",
    "\n",
    "for i in range(a - 1):\n",
    "    for j in range(sp):\n",
    "        print(' ', end='')\n",
    "    \n",
    "    sp += 1\n",
    "    \n",
    "    for j in range(1, x + 1):\n",
    "        if j == 1 or j == x:\n",
    "            print(j, end='')\n",
    "        else:\n",
    "            print(' ', end='') \n",
    "    x -= 2\n",
    "    print()"
   ]
  },
  {
   "cell_type": "code",
   "execution_count": 12,
   "metadata": {},
   "outputs": [
    {
     "name": "stdout",
     "output_type": "stream",
     "text": [
      "5\n",
      "123454321\n"
     ]
    }
   ],
   "source": [
    "# P24\n",
    "a = int(input())\n",
    "\n",
    "print(*range(1, a + 1), *range(a - 1, 0, -1), sep='')"
   ]
  },
  {
   "cell_type": "code",
   "execution_count": 14,
   "metadata": {},
   "outputs": [
    {
     "name": "stdout",
     "output_type": "stream",
     "text": [
      "5\n",
      "    1\n",
      "   121\n",
      "  12321\n",
      " 1234321\n",
      "123454321\n"
     ]
    }
   ],
   "source": [
    "# P25\n",
    "a = int(input())\n",
    "sp = a - 1\n",
    "x = 1\n",
    "\n",
    "for i in range(a):\n",
    "    for j in range(sp):\n",
    "        print(' ', end='')\n",
    "    sp -= 1\n",
    "    \n",
    "    print(*range(1, x + 1), *range(x - 1, 0, -1), sep='')\n",
    "    x += 1"
   ]
  },
  {
   "cell_type": "code",
   "execution_count": null,
   "metadata": {},
   "outputs": [],
   "source": [
    "|"
   ]
  }
 ],
 "metadata": {
  "kernelspec": {
   "display_name": "Python 3",
   "language": "python",
   "name": "python3"
  },
  "language_info": {
   "codemirror_mode": {
    "name": "ipython",
    "version": 3
   },
   "file_extension": ".py",
   "mimetype": "text/x-python",
   "name": "python",
   "nbconvert_exporter": "python",
   "pygments_lexer": "ipython3",
   "version": "3.6.5"
  }
 },
 "nbformat": 4,
 "nbformat_minor": 2
}
